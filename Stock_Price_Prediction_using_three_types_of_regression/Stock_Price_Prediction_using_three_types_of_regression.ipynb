{
 "cells": [
  {
   "cell_type": "code",
   "execution_count": 1,
   "metadata": {
    "collapsed": true
   },
   "outputs": [],
   "source": [
    "# Importing libraries\n",
    "import pandas as pd\n",
    "import numpy as np\n",
    "import quandl\n",
    "\n",
    "import matplotlib.pyplot as plt\n",
    "%matplotlib inline\n",
    "\n",
    "from datetime import datetime, timedelta\n",
    "\n",
    "from sklearn import preprocessing\n",
    "from sklearn.linear_model import LinearRegression, Ridge, Lasso\n",
    "from sklearn.model_selection import train_test_split"
   ]
  },
  {
   "cell_type": "code",
   "execution_count": 8,
   "metadata": {
    "collapsed": true
   },
   "outputs": [],
   "source": [
    "# Set time frames for analysis\n",
    "start = pd.to_datetime('2010-01-01')\n",
    "end = pd.to_datetime('2019-03-29')\n",
    "\n",
    "# Get a stock data for portfolio: Activision Blizzard Inc. (ATVI)\n",
    "df = quandl.get('WIKI/ATVI', start_date=start, end_date=end)"
   ]
  },
  {
   "cell_type": "code",
   "execution_count": 9,
   "metadata": {},
   "outputs": [
    {
     "data": {
      "text/html": [
       "<div>\n",
       "<style>\n",
       "    .dataframe thead tr:only-child th {\n",
       "        text-align: right;\n",
       "    }\n",
       "\n",
       "    .dataframe thead th {\n",
       "        text-align: left;\n",
       "    }\n",
       "\n",
       "    .dataframe tbody tr th {\n",
       "        vertical-align: top;\n",
       "    }\n",
       "</style>\n",
       "<table border=\"1\" class=\"dataframe\">\n",
       "  <thead>\n",
       "    <tr style=\"text-align: right;\">\n",
       "      <th></th>\n",
       "      <th>Open</th>\n",
       "      <th>High</th>\n",
       "      <th>Low</th>\n",
       "      <th>Close</th>\n",
       "      <th>Volume</th>\n",
       "      <th>Ex-Dividend</th>\n",
       "      <th>Split Ratio</th>\n",
       "      <th>Adj. Open</th>\n",
       "      <th>Adj. High</th>\n",
       "      <th>Adj. Low</th>\n",
       "      <th>Adj. Close</th>\n",
       "      <th>Adj. Volume</th>\n",
       "    </tr>\n",
       "    <tr>\n",
       "      <th>Date</th>\n",
       "      <th></th>\n",
       "      <th></th>\n",
       "      <th></th>\n",
       "      <th></th>\n",
       "      <th></th>\n",
       "      <th></th>\n",
       "      <th></th>\n",
       "      <th></th>\n",
       "      <th></th>\n",
       "      <th></th>\n",
       "      <th></th>\n",
       "      <th></th>\n",
       "    </tr>\n",
       "  </thead>\n",
       "  <tbody>\n",
       "    <tr>\n",
       "      <th>2010-01-04</th>\n",
       "      <td>11.2300</td>\n",
       "      <td>11.45</td>\n",
       "      <td>11.1500</td>\n",
       "      <td>11.30</td>\n",
       "      <td>9306600.0</td>\n",
       "      <td>0.0</td>\n",
       "      <td>1.0</td>\n",
       "      <td>10.265482</td>\n",
       "      <td>10.466586</td>\n",
       "      <td>10.192353</td>\n",
       "      <td>10.329469</td>\n",
       "      <td>9306600.0</td>\n",
       "    </tr>\n",
       "    <tr>\n",
       "      <th>2010-01-05</th>\n",
       "      <td>11.2419</td>\n",
       "      <td>11.36</td>\n",
       "      <td>11.2100</td>\n",
       "      <td>11.32</td>\n",
       "      <td>11366100.0</td>\n",
       "      <td>0.0</td>\n",
       "      <td>1.0</td>\n",
       "      <td>10.276360</td>\n",
       "      <td>10.384316</td>\n",
       "      <td>10.247199</td>\n",
       "      <td>10.347752</td>\n",
       "      <td>11366100.0</td>\n",
       "    </tr>\n",
       "    <tr>\n",
       "      <th>2010-01-06</th>\n",
       "      <td>11.2600</td>\n",
       "      <td>11.38</td>\n",
       "      <td>11.2100</td>\n",
       "      <td>11.26</td>\n",
       "      <td>6537800.0</td>\n",
       "      <td>0.0</td>\n",
       "      <td>1.0</td>\n",
       "      <td>10.292905</td>\n",
       "      <td>10.402598</td>\n",
       "      <td>10.247199</td>\n",
       "      <td>10.292905</td>\n",
       "      <td>6537800.0</td>\n",
       "    </tr>\n",
       "    <tr>\n",
       "      <th>2010-01-07</th>\n",
       "      <td>11.1000</td>\n",
       "      <td>11.19</td>\n",
       "      <td>10.9319</td>\n",
       "      <td>10.99</td>\n",
       "      <td>15390800.0</td>\n",
       "      <td>0.0</td>\n",
       "      <td>1.0</td>\n",
       "      <td>10.146647</td>\n",
       "      <td>10.228917</td>\n",
       "      <td>9.992985</td>\n",
       "      <td>10.046095</td>\n",
       "      <td>15390800.0</td>\n",
       "    </tr>\n",
       "    <tr>\n",
       "      <th>2010-01-08</th>\n",
       "      <td>10.9700</td>\n",
       "      <td>11.05</td>\n",
       "      <td>10.8800</td>\n",
       "      <td>10.90</td>\n",
       "      <td>11002500.0</td>\n",
       "      <td>0.0</td>\n",
       "      <td>1.0</td>\n",
       "      <td>10.027812</td>\n",
       "      <td>10.100941</td>\n",
       "      <td>9.945542</td>\n",
       "      <td>9.963824</td>\n",
       "      <td>11002500.0</td>\n",
       "    </tr>\n",
       "  </tbody>\n",
       "</table>\n",
       "</div>"
      ],
      "text/plain": [
       "               Open   High      Low  Close      Volume  Ex-Dividend  \\\n",
       "Date                                                                  \n",
       "2010-01-04  11.2300  11.45  11.1500  11.30   9306600.0          0.0   \n",
       "2010-01-05  11.2419  11.36  11.2100  11.32  11366100.0          0.0   \n",
       "2010-01-06  11.2600  11.38  11.2100  11.26   6537800.0          0.0   \n",
       "2010-01-07  11.1000  11.19  10.9319  10.99  15390800.0          0.0   \n",
       "2010-01-08  10.9700  11.05  10.8800  10.90  11002500.0          0.0   \n",
       "\n",
       "            Split Ratio  Adj. Open  Adj. High   Adj. Low  Adj. Close  \\\n",
       "Date                                                                   \n",
       "2010-01-04          1.0  10.265482  10.466586  10.192353   10.329469   \n",
       "2010-01-05          1.0  10.276360  10.384316  10.247199   10.347752   \n",
       "2010-01-06          1.0  10.292905  10.402598  10.247199   10.292905   \n",
       "2010-01-07          1.0  10.146647  10.228917   9.992985   10.046095   \n",
       "2010-01-08          1.0  10.027812  10.100941   9.945542    9.963824   \n",
       "\n",
       "            Adj. Volume  \n",
       "Date                     \n",
       "2010-01-04    9306600.0  \n",
       "2010-01-05   11366100.0  \n",
       "2010-01-06    6537800.0  \n",
       "2010-01-07   15390800.0  \n",
       "2010-01-08   11002500.0  "
      ]
     },
     "execution_count": 9,
     "metadata": {},
     "output_type": "execute_result"
    }
   ],
   "source": [
    "df.head()"
   ]
  },
  {
   "cell_type": "code",
   "execution_count": 10,
   "metadata": {},
   "outputs": [],
   "source": [
    "# Set number of days to forecast\n",
    "forecast = 30\n",
    "df['Prediction'] = df['Adj. Close'].shift(-forecast)"
   ]
  },
  {
   "cell_type": "code",
   "execution_count": 11,
   "metadata": {
    "collapsed": true
   },
   "outputs": [],
   "source": [
    "x = np.array(df.drop(['Prediction'], 1))\n",
    "x = x[:-forecast]"
   ]
  },
  {
   "cell_type": "code",
   "execution_count": 12,
   "metadata": {
    "collapsed": true
   },
   "outputs": [],
   "source": [
    "y = np.array(df['Prediction'])\n",
    "y = y[:-forecast]"
   ]
  },
  {
   "cell_type": "code",
   "execution_count": 16,
   "metadata": {
    "collapsed": true
   },
   "outputs": [],
   "source": [
    "x_train, x_test, y_train, y_test = train_test_split(x, y, test_size = 0.5)"
   ]
  },
  {
   "cell_type": "code",
   "execution_count": 17,
   "metadata": {},
   "outputs": [
    {
     "name": "stderr",
     "output_type": "stream",
     "text": [
      "/anaconda3/envs/finance/lib/python3.6/site-packages/sklearn/linear_model/coordinate_descent.py:491: ConvergenceWarning: Objective did not converge. You might want to increase the number of iterations. Fitting data with very small alpha may cause precision problems.\n",
      "  ConvergenceWarning)\n"
     ]
    },
    {
     "data": {
      "text/plain": [
       "Lasso(alpha=1.0, copy_X=True, fit_intercept=True, max_iter=1000,\n",
       "   normalize=False, positive=False, precompute=False, random_state=None,\n",
       "   selection='cyclic', tol=0.0001, warm_start=False)"
      ]
     },
     "execution_count": 17,
     "metadata": {},
     "output_type": "execute_result"
    }
   ],
   "source": [
    "linear_model = LinearRegression()\n",
    "ridge_model = Ridge()\n",
    "lasso_model = Lasso()\n",
    "\n",
    "linear_model.fit(x_train, y_train)\n",
    "ridge_model.fit(x_train, y_train)\n",
    "lasso_model.fit(x_train, y_train)"
   ]
  },
  {
   "cell_type": "code",
   "execution_count": 18,
   "metadata": {},
   "outputs": [
    {
     "name": "stdout",
     "output_type": "stream",
     "text": [
      "Linear Model score: 0.9825181422045278\n",
      "Ridge Model score: 0.9825944725300587\n",
      "Lasso Model score: 0.9803472953107535\n"
     ]
    }
   ],
   "source": [
    "linear_model_score = linear_model.score(x_test, y_test)\n",
    "print(f'Linear Model score: {linear_model_score}')\n",
    "\n",
    "ridge_model_score = ridge_model.score(x_test, y_test)\n",
    "print(f'Ridge Model score: {ridge_model_score}')\n",
    "\n",
    "lasso_model_score = lasso_model.score(x_test, y_test)\n",
    "print(f'Lasso Model score: {lasso_model_score}')"
   ]
  },
  {
   "cell_type": "code",
   "execution_count": 19,
   "metadata": {
    "collapsed": true
   },
   "outputs": [],
   "source": [
    "x_forecast = np.array(df.drop(['Prediction'], 1))[-forecast:]\n",
    "linear_model_forecast_prediction = linear_model.predict(x_forecast)\n",
    "linear_model_real_prediction = linear_model.predict(np.array(df.drop(['Prediction'], 1)))\n",
    "ridge_model_forecast_prediction = ridge_model.predict(x_forecast)\n",
    "ridge_model_real_prediction = ridge_model.predict(np.array(df.drop(['Prediction'], 1)))\n",
    "lasso_model_forecast_prediction = lasso_model.predict(x_forecast)\n",
    "lasso_model_real_prediction = lasso_model.predict(np.array(df.drop(['Prediction'], 1)))"
   ]
  },
  {
   "cell_type": "code",
   "execution_count": 22,
   "metadata": {},
   "outputs": [
    {
     "data": {
      "text/plain": [
       "<matplotlib.legend.Legend at 0x116b90978>"
      ]
     },
     "execution_count": 22,
     "metadata": {},
     "output_type": "execute_result"
    },
    {
     "data": {
      "image/png": "[encoded data removed]",
      "text/plain": [
       "<matplotlib.figure.Figure at 0x116aa44e0>"
      ]
     },
     "metadata": {},
     "output_type": "display_data"
    }
   ],
   "source": [
    "predicted_dates = []\n",
    "recent_date = df.index.max()\n",
    "display_at = 3500\n",
    "alpha = 0.5\n",
    "\n",
    "for i in range(forecast):\n",
    "    recent_date += timedelta(days=1)\n",
    "    predicted_dates.append(recent_date)\n",
    "\n",
    "plt.plot(df.index[display_at:], linear_model_real_prediction[display_at:], label='Linear Preds', c='blue', alpha=alpha)\n",
    "plt.plot(predicted_dates, linear_model_forecast_prediction, c='blue', alpha=alpha)\n",
    "plt.plot(df.index[display_at:], ridge_model_real_prediction[display_at:], label='Ridge Preds', c='green', alpha=alpha)\n",
    "plt.plot(predicted_dates, ridge_model_forecast_prediction, c='green', alpha=alpha)\n",
    "plt.plot(df.index[display_at:], lasso_model_real_prediction[display_at:], label='Lasso Preds', c='red', alpha=alpha)\n",
    "plt.plot(predicted_dates, lasso_model_forecast_prediction, c='red', alpha=alpha)\n",
    "plt.plot(df.index[display_at:], df['Adj. Close'][display_at:], label='ATVI', c='black', linewidth=3)\n",
    "plt.legend()"
   ]
  },
  {
   "cell_type": "code",
   "execution_count": null,
   "metadata": {
    "collapsed": true
   },
   "outputs": [],
   "source": []
  }
 ],
 "metadata": {
  "kernelspec": {
   "display_name": "Python 3",
   "language": "python",
   "name": "python3"
  },
  "language_info": {
   "codemirror_mode": {
    "name": "ipython",
    "version": 3
   },
   "file_extension": ".py",
   "mimetype": "text/x-python",
   "name": "python",
   "nbconvert_exporter": "python",
   "pygments_lexer": "ipython3",
   "version": "3.6.1"
  }
 },
 "nbformat": 4,
 "nbformat_minor": 2
}
