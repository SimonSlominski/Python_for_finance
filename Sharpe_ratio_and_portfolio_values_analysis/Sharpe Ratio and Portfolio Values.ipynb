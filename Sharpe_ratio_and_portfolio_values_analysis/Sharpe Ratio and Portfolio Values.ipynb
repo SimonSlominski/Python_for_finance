{
 "cells": [
  {
   "cell_type": "markdown",
   "metadata": {},
   "source": [
    "# Sharpe Ratio and Portfolio Values"
   ]
  },
  {
   "cell_type": "markdown",
   "metadata": {},
   "source": [
    "Comparative analysis of the well known companies from the GameDev industry listed on NASDAQ."
   ]
  },
  {
   "cell_type": "code",
   "execution_count": 1,
   "metadata": {
    "collapsed": true
   },
   "outputs": [],
   "source": [
    "# Importing libraries\n",
    "import pandas as pd\n",
    "import quandl\n",
    "import matplotlib.pyplot as plt\n",
    "%matplotlib inline"
   ]
  },
  {
   "cell_type": "markdown",
   "metadata": {},
   "source": [
    "## Create a portfolio of compared companies"
   ]
  },
  {
   "cell_type": "code",
   "execution_count": 2,
   "metadata": {
    "collapsed": true
   },
   "outputs": [],
   "source": [
    "# Set time frames for analysis\n",
    "start = pd.to_datetime('2009-01-01')\n",
    "end = pd.to_datetime('2019-03-29')"
   ]
  },
  {
   "cell_type": "code",
   "execution_count": 3,
   "metadata": {
    "collapsed": true
   },
   "outputs": [],
   "source": [
    "# Get a stock data for portfolio\n",
    "\n",
    "# Activision Blizzard Inc. (ATVI)\n",
    "atvi = quandl.get('WIKI/ATVI', start_date=start, end_date=end)\n",
    "\n",
    "# Take-Two Interactive Software Inc. (TTWO)\n",
    "ttwo = quandl.get('WIKI/TTWO', start_date=start, end_date=end)\n",
    "\n",
    "# Electronic Arts Inc. (EA)\n",
    "ea = quandl.get('WIKI/EA', start_date=start, end_date=end)"
   ]
  },
  {
   "cell_type": "code",
   "execution_count": 4,
   "metadata": {},
   "outputs": [
    {
     "data": {
      "text/html": [
       "<div>\n",
       "<style>\n",
       "    .dataframe thead tr:only-child th {\n",
       "        text-align: right;\n",
       "    }\n",
       "\n",
       "    .dataframe thead th {\n",
       "        text-align: left;\n",
       "    }\n",
       "\n",
       "    .dataframe tbody tr th {\n",
       "        vertical-align: top;\n",
       "    }\n",
       "</style>\n",
       "<table border=\"1\" class=\"dataframe\">\n",
       "  <thead>\n",
       "    <tr style=\"text-align: right;\">\n",
       "      <th></th>\n",
       "      <th>Open</th>\n",
       "      <th>High</th>\n",
       "      <th>Low</th>\n",
       "      <th>Close</th>\n",
       "      <th>Volume</th>\n",
       "      <th>Ex-Dividend</th>\n",
       "      <th>Split Ratio</th>\n",
       "      <th>Adj. Open</th>\n",
       "      <th>Adj. High</th>\n",
       "      <th>Adj. Low</th>\n",
       "      <th>Adj. Close</th>\n",
       "      <th>Adj. Volume</th>\n",
       "    </tr>\n",
       "    <tr>\n",
       "      <th>Date</th>\n",
       "      <th></th>\n",
       "      <th></th>\n",
       "      <th></th>\n",
       "      <th></th>\n",
       "      <th></th>\n",
       "      <th></th>\n",
       "      <th></th>\n",
       "      <th></th>\n",
       "      <th></th>\n",
       "      <th></th>\n",
       "      <th></th>\n",
       "      <th></th>\n",
       "    </tr>\n",
       "  </thead>\n",
       "  <tbody>\n",
       "    <tr>\n",
       "      <th>2009-01-02</th>\n",
       "      <td>8.78</td>\n",
       "      <td>9.16</td>\n",
       "      <td>8.51</td>\n",
       "      <td>9.12</td>\n",
       "      <td>8077100.0</td>\n",
       "      <td>0.0</td>\n",
       "      <td>1.0</td>\n",
       "      <td>8.025906</td>\n",
       "      <td>8.373269</td>\n",
       "      <td>7.779096</td>\n",
       "      <td>8.336705</td>\n",
       "      <td>8077100.0</td>\n",
       "    </tr>\n",
       "    <tr>\n",
       "      <th>2009-01-05</th>\n",
       "      <td>9.00</td>\n",
       "      <td>9.07</td>\n",
       "      <td>8.62</td>\n",
       "      <td>8.75</td>\n",
       "      <td>8074400.0</td>\n",
       "      <td>0.0</td>\n",
       "      <td>1.0</td>\n",
       "      <td>8.227011</td>\n",
       "      <td>8.290999</td>\n",
       "      <td>7.879648</td>\n",
       "      <td>7.998483</td>\n",
       "      <td>8074400.0</td>\n",
       "    </tr>\n",
       "    <tr>\n",
       "      <th>2009-01-06</th>\n",
       "      <td>8.81</td>\n",
       "      <td>8.89</td>\n",
       "      <td>8.14</td>\n",
       "      <td>8.18</td>\n",
       "      <td>24157500.0</td>\n",
       "      <td>0.0</td>\n",
       "      <td>1.0</td>\n",
       "      <td>8.053330</td>\n",
       "      <td>8.126459</td>\n",
       "      <td>7.440874</td>\n",
       "      <td>7.477439</td>\n",
       "      <td>24157500.0</td>\n",
       "    </tr>\n",
       "    <tr>\n",
       "      <th>2009-01-07</th>\n",
       "      <td>8.20</td>\n",
       "      <td>9.42</td>\n",
       "      <td>8.18</td>\n",
       "      <td>9.08</td>\n",
       "      <td>44055500.0</td>\n",
       "      <td>0.0</td>\n",
       "      <td>1.0</td>\n",
       "      <td>7.495721</td>\n",
       "      <td>8.610938</td>\n",
       "      <td>7.477439</td>\n",
       "      <td>8.300140</td>\n",
       "      <td>44055500.0</td>\n",
       "    </tr>\n",
       "    <tr>\n",
       "      <th>2009-01-08</th>\n",
       "      <td>9.25</td>\n",
       "      <td>9.62</td>\n",
       "      <td>8.86</td>\n",
       "      <td>9.26</td>\n",
       "      <td>22458800.0</td>\n",
       "      <td>0.0</td>\n",
       "      <td>1.0</td>\n",
       "      <td>8.455539</td>\n",
       "      <td>8.793761</td>\n",
       "      <td>8.099035</td>\n",
       "      <td>8.464680</td>\n",
       "      <td>22458800.0</td>\n",
       "    </tr>\n",
       "  </tbody>\n",
       "</table>\n",
       "</div>"
      ],
      "text/plain": [
       "            Open  High   Low  Close      Volume  Ex-Dividend  Split Ratio  \\\n",
       "Date                                                                        \n",
       "2009-01-02  8.78  9.16  8.51   9.12   8077100.0          0.0          1.0   \n",
       "2009-01-05  9.00  9.07  8.62   8.75   8074400.0          0.0          1.0   \n",
       "2009-01-06  8.81  8.89  8.14   8.18  24157500.0          0.0          1.0   \n",
       "2009-01-07  8.20  9.42  8.18   9.08  44055500.0          0.0          1.0   \n",
       "2009-01-08  9.25  9.62  8.86   9.26  22458800.0          0.0          1.0   \n",
       "\n",
       "            Adj. Open  Adj. High  Adj. Low  Adj. Close  Adj. Volume  \n",
       "Date                                                                 \n",
       "2009-01-02   8.025906   8.373269  7.779096    8.336705    8077100.0  \n",
       "2009-01-05   8.227011   8.290999  7.879648    7.998483    8074400.0  \n",
       "2009-01-06   8.053330   8.126459  7.440874    7.477439   24157500.0  \n",
       "2009-01-07   7.495721   8.610938  7.477439    8.300140   44055500.0  \n",
       "2009-01-08   8.455539   8.793761  8.099035    8.464680   22458800.0  "
      ]
     },
     "execution_count": 4,
     "metadata": {},
     "output_type": "execute_result"
    }
   ],
   "source": [
    "# Quick look at the dataset\n",
    "atvi.head()"
   ]
  },
  {
   "cell_type": "markdown",
   "metadata": {},
   "source": [
    "## Normalize Prices\n",
    "\n",
    "The Normalized Price indicator graphs the price movement of an instrument using 100 as the base value for a user specified base date/time. The normalized value for each bar after the base date/time is the percent of the base price expressed as a whole number. **In simple words this is a cumulative daily return.**\n",
    "\n",
    "**Adjusted Closing Price**\n",
    "\n",
    "It is a stock's closing price on any given day of trading that has been amended to include any distributions and corporate actions that occurred at any time before the next day's open (eg. stock splits, dividends). The adjusted closing price is often used when **examining historical returns or performing a detailed analysis of historical returns**.\n",
    "\n",
    "Source: https://www.investopedia.com\n"
   ]
  },
  {
   "cell_type": "code",
   "execution_count": 5,
   "metadata": {
    "collapsed": true
   },
   "outputs": [],
   "source": [
    "for stock_df in (atvi, ttwo, ea):\n",
    "    stock_df['Normed Return'] = stock_df['Adj. Close'] / stock_df.iloc[0]['Adj. Close']"
   ]
  },
  {
   "cell_type": "code",
   "execution_count": 6,
   "metadata": {},
   "outputs": [
    {
     "data": {
      "text/html": [
       "<div>\n",
       "<style>\n",
       "    .dataframe thead tr:only-child th {\n",
       "        text-align: right;\n",
       "    }\n",
       "\n",
       "    .dataframe thead th {\n",
       "        text-align: left;\n",
       "    }\n",
       "\n",
       "    .dataframe tbody tr th {\n",
       "        vertical-align: top;\n",
       "    }\n",
       "</style>\n",
       "<table border=\"1\" class=\"dataframe\">\n",
       "  <thead>\n",
       "    <tr style=\"text-align: right;\">\n",
       "      <th></th>\n",
       "      <th>Adj. Close</th>\n",
       "      <th>Normed Return</th>\n",
       "    </tr>\n",
       "    <tr>\n",
       "      <th>Date</th>\n",
       "      <th></th>\n",
       "      <th></th>\n",
       "    </tr>\n",
       "  </thead>\n",
       "  <tbody>\n",
       "    <tr>\n",
       "      <th>2009-01-02</th>\n",
       "      <td>8.336705</td>\n",
       "      <td>1.000000</td>\n",
       "    </tr>\n",
       "    <tr>\n",
       "      <th>2009-01-05</th>\n",
       "      <td>7.998483</td>\n",
       "      <td>0.959430</td>\n",
       "    </tr>\n",
       "    <tr>\n",
       "      <th>2009-01-06</th>\n",
       "      <td>7.477439</td>\n",
       "      <td>0.896930</td>\n",
       "    </tr>\n",
       "    <tr>\n",
       "      <th>2009-01-07</th>\n",
       "      <td>8.300140</td>\n",
       "      <td>0.995614</td>\n",
       "    </tr>\n",
       "    <tr>\n",
       "      <th>2009-01-08</th>\n",
       "      <td>8.464680</td>\n",
       "      <td>1.015351</td>\n",
       "    </tr>\n",
       "  </tbody>\n",
       "</table>\n",
       "</div>"
      ],
      "text/plain": [
       "            Adj. Close  Normed Return\n",
       "Date                                 \n",
       "2009-01-02    8.336705       1.000000\n",
       "2009-01-05    7.998483       0.959430\n",
       "2009-01-06    7.477439       0.896930\n",
       "2009-01-07    8.300140       0.995614\n",
       "2009-01-08    8.464680       1.015351"
      ]
     },
     "execution_count": 6,
     "metadata": {},
     "output_type": "execute_result"
    }
   ],
   "source": [
    "atvi[['Adj. Close', 'Normed Return']].head()"
   ]
  },
  {
   "cell_type": "markdown",
   "metadata": {},
   "source": [
    "## Allocations\n",
    "\n",
    "Let's make a sample assumption for our portfolio.\n",
    "\n",
    "* 50% in Activision Blizzard\n",
    "* 20% in Take-Two Interactive Software\n",
    "* 30% in Electronic Arts"
   ]
  },
  {
   "cell_type": "code",
   "execution_count": 7,
   "metadata": {
    "collapsed": true
   },
   "outputs": [],
   "source": [
    "for stock_df, allo in zip([atvi, ttwo, ea],[0.5,0.2,0.3]):\n",
    "    stock_df['Allocation'] = stock_df['Normed Return'] * allo"
   ]
  },
  {
   "cell_type": "code",
   "execution_count": 8,
   "metadata": {},
   "outputs": [
    {
     "data": {
      "text/html": [
       "<div>\n",
       "<style>\n",
       "    .dataframe thead tr:only-child th {\n",
       "        text-align: right;\n",
       "    }\n",
       "\n",
       "    .dataframe thead th {\n",
       "        text-align: left;\n",
       "    }\n",
       "\n",
       "    .dataframe tbody tr th {\n",
       "        vertical-align: top;\n",
       "    }\n",
       "</style>\n",
       "<table border=\"1\" class=\"dataframe\">\n",
       "  <thead>\n",
       "    <tr style=\"text-align: right;\">\n",
       "      <th></th>\n",
       "      <th>Open</th>\n",
       "      <th>High</th>\n",
       "      <th>Low</th>\n",
       "      <th>Close</th>\n",
       "      <th>Volume</th>\n",
       "      <th>Ex-Dividend</th>\n",
       "      <th>Split Ratio</th>\n",
       "      <th>Adj. Open</th>\n",
       "      <th>Adj. High</th>\n",
       "      <th>Adj. Low</th>\n",
       "      <th>Adj. Close</th>\n",
       "      <th>Adj. Volume</th>\n",
       "      <th>Normed Return</th>\n",
       "      <th>Allocation</th>\n",
       "    </tr>\n",
       "    <tr>\n",
       "      <th>Date</th>\n",
       "      <th></th>\n",
       "      <th></th>\n",
       "      <th></th>\n",
       "      <th></th>\n",
       "      <th></th>\n",
       "      <th></th>\n",
       "      <th></th>\n",
       "      <th></th>\n",
       "      <th></th>\n",
       "      <th></th>\n",
       "      <th></th>\n",
       "      <th></th>\n",
       "      <th></th>\n",
       "      <th></th>\n",
       "    </tr>\n",
       "  </thead>\n",
       "  <tbody>\n",
       "    <tr>\n",
       "      <th>2009-01-02</th>\n",
       "      <td>8.78</td>\n",
       "      <td>9.16</td>\n",
       "      <td>8.51</td>\n",
       "      <td>9.12</td>\n",
       "      <td>8077100.0</td>\n",
       "      <td>0.0</td>\n",
       "      <td>1.0</td>\n",
       "      <td>8.025906</td>\n",
       "      <td>8.373269</td>\n",
       "      <td>7.779096</td>\n",
       "      <td>8.336705</td>\n",
       "      <td>8077100.0</td>\n",
       "      <td>1.000000</td>\n",
       "      <td>0.500000</td>\n",
       "    </tr>\n",
       "    <tr>\n",
       "      <th>2009-01-05</th>\n",
       "      <td>9.00</td>\n",
       "      <td>9.07</td>\n",
       "      <td>8.62</td>\n",
       "      <td>8.75</td>\n",
       "      <td>8074400.0</td>\n",
       "      <td>0.0</td>\n",
       "      <td>1.0</td>\n",
       "      <td>8.227011</td>\n",
       "      <td>8.290999</td>\n",
       "      <td>7.879648</td>\n",
       "      <td>7.998483</td>\n",
       "      <td>8074400.0</td>\n",
       "      <td>0.959430</td>\n",
       "      <td>0.479715</td>\n",
       "    </tr>\n",
       "    <tr>\n",
       "      <th>2009-01-06</th>\n",
       "      <td>8.81</td>\n",
       "      <td>8.89</td>\n",
       "      <td>8.14</td>\n",
       "      <td>8.18</td>\n",
       "      <td>24157500.0</td>\n",
       "      <td>0.0</td>\n",
       "      <td>1.0</td>\n",
       "      <td>8.053330</td>\n",
       "      <td>8.126459</td>\n",
       "      <td>7.440874</td>\n",
       "      <td>7.477439</td>\n",
       "      <td>24157500.0</td>\n",
       "      <td>0.896930</td>\n",
       "      <td>0.448465</td>\n",
       "    </tr>\n",
       "    <tr>\n",
       "      <th>2009-01-07</th>\n",
       "      <td>8.20</td>\n",
       "      <td>9.42</td>\n",
       "      <td>8.18</td>\n",
       "      <td>9.08</td>\n",
       "      <td>44055500.0</td>\n",
       "      <td>0.0</td>\n",
       "      <td>1.0</td>\n",
       "      <td>7.495721</td>\n",
       "      <td>8.610938</td>\n",
       "      <td>7.477439</td>\n",
       "      <td>8.300140</td>\n",
       "      <td>44055500.0</td>\n",
       "      <td>0.995614</td>\n",
       "      <td>0.497807</td>\n",
       "    </tr>\n",
       "    <tr>\n",
       "      <th>2009-01-08</th>\n",
       "      <td>9.25</td>\n",
       "      <td>9.62</td>\n",
       "      <td>8.86</td>\n",
       "      <td>9.26</td>\n",
       "      <td>22458800.0</td>\n",
       "      <td>0.0</td>\n",
       "      <td>1.0</td>\n",
       "      <td>8.455539</td>\n",
       "      <td>8.793761</td>\n",
       "      <td>8.099035</td>\n",
       "      <td>8.464680</td>\n",
       "      <td>22458800.0</td>\n",
       "      <td>1.015351</td>\n",
       "      <td>0.507675</td>\n",
       "    </tr>\n",
       "  </tbody>\n",
       "</table>\n",
       "</div>"
      ],
      "text/plain": [
       "            Open  High   Low  Close      Volume  Ex-Dividend  Split Ratio  \\\n",
       "Date                                                                        \n",
       "2009-01-02  8.78  9.16  8.51   9.12   8077100.0          0.0          1.0   \n",
       "2009-01-05  9.00  9.07  8.62   8.75   8074400.0          0.0          1.0   \n",
       "2009-01-06  8.81  8.89  8.14   8.18  24157500.0          0.0          1.0   \n",
       "2009-01-07  8.20  9.42  8.18   9.08  44055500.0          0.0          1.0   \n",
       "2009-01-08  9.25  9.62  8.86   9.26  22458800.0          0.0          1.0   \n",
       "\n",
       "            Adj. Open  Adj. High  Adj. Low  Adj. Close  Adj. Volume  \\\n",
       "Date                                                                  \n",
       "2009-01-02   8.025906   8.373269  7.779096    8.336705    8077100.0   \n",
       "2009-01-05   8.227011   8.290999  7.879648    7.998483    8074400.0   \n",
       "2009-01-06   8.053330   8.126459  7.440874    7.477439   24157500.0   \n",
       "2009-01-07   7.495721   8.610938  7.477439    8.300140   44055500.0   \n",
       "2009-01-08   8.455539   8.793761  8.099035    8.464680   22458800.0   \n",
       "\n",
       "            Normed Return  Allocation  \n",
       "Date                                   \n",
       "2009-01-02       1.000000    0.500000  \n",
       "2009-01-05       0.959430    0.479715  \n",
       "2009-01-06       0.896930    0.448465  \n",
       "2009-01-07       0.995614    0.497807  \n",
       "2009-01-08       1.015351    0.507675  "
      ]
     },
     "execution_count": 8,
     "metadata": {},
     "output_type": "execute_result"
    }
   ],
   "source": [
    "atvi.head()"
   ]
  },
  {
   "cell_type": "markdown",
   "metadata": {},
   "source": [
    "## Investment\n",
    "\n",
    "Now, it's time to set the investment amount for portfolio. For further calculation let's assume we have $100000.\n"
   ]
  },
  {
   "cell_type": "code",
   "execution_count": 9,
   "metadata": {
    "collapsed": true
   },
   "outputs": [],
   "source": [
    "# Set the value of investment\n",
    "investment = 100000"
   ]
  },
  {
   "cell_type": "code",
   "execution_count": 10,
   "metadata": {
    "collapsed": true
   },
   "outputs": [],
   "source": [
    "for stock_df in [atvi, ttwo, ea]:\n",
    "    stock_df['Position Values'] = stock_df['Allocation'] * investment"
   ]
  },
  {
   "cell_type": "markdown",
   "metadata": {},
   "source": [
    "## Total Portfolio Value"
   ]
  },
  {
   "cell_type": "code",
   "execution_count": 11,
   "metadata": {
    "collapsed": true
   },
   "outputs": [],
   "source": [
    "portfolio_value = pd.concat([atvi['Position Values'], ttwo['Position Values'], ea['Position Values']], axis=1)"
   ]
  },
  {
   "cell_type": "code",
   "execution_count": 12,
   "metadata": {
    "collapsed": true
   },
   "outputs": [],
   "source": [
    "# Changing the names of columns for each company\n",
    "portfolio_value.columns = ['ATVI Pos', 'TTWO Pos', 'EA Pos']"
   ]
  },
  {
   "cell_type": "code",
   "execution_count": 13,
   "metadata": {},
   "outputs": [
    {
     "data": {
      "text/html": [
       "<div>\n",
       "<style>\n",
       "    .dataframe thead tr:only-child th {\n",
       "        text-align: right;\n",
       "    }\n",
       "\n",
       "    .dataframe thead th {\n",
       "        text-align: left;\n",
       "    }\n",
       "\n",
       "    .dataframe tbody tr th {\n",
       "        vertical-align: top;\n",
       "    }\n",
       "</style>\n",
       "<table border=\"1\" class=\"dataframe\">\n",
       "  <thead>\n",
       "    <tr style=\"text-align: right;\">\n",
       "      <th></th>\n",
       "      <th>ATVI Pos</th>\n",
       "      <th>TTWO Pos</th>\n",
       "      <th>EA Pos</th>\n",
       "    </tr>\n",
       "    <tr>\n",
       "      <th>Date</th>\n",
       "      <th></th>\n",
       "      <th></th>\n",
       "      <th></th>\n",
       "    </tr>\n",
       "  </thead>\n",
       "  <tbody>\n",
       "    <tr>\n",
       "      <th>2009-01-02</th>\n",
       "      <td>50000.000000</td>\n",
       "      <td>20000.000000</td>\n",
       "      <td>30000.000000</td>\n",
       "    </tr>\n",
       "    <tr>\n",
       "      <th>2009-01-05</th>\n",
       "      <td>47971.491228</td>\n",
       "      <td>20477.987421</td>\n",
       "      <td>28727.064220</td>\n",
       "    </tr>\n",
       "    <tr>\n",
       "      <th>2009-01-06</th>\n",
       "      <td>44846.491228</td>\n",
       "      <td>19849.056604</td>\n",
       "      <td>31926.605505</td>\n",
       "    </tr>\n",
       "    <tr>\n",
       "      <th>2009-01-07</th>\n",
       "      <td>49780.701754</td>\n",
       "      <td>19446.540881</td>\n",
       "      <td>30550.458716</td>\n",
       "    </tr>\n",
       "    <tr>\n",
       "      <th>2009-01-08</th>\n",
       "      <td>50767.543860</td>\n",
       "      <td>20352.201258</td>\n",
       "      <td>32425.458716</td>\n",
       "    </tr>\n",
       "  </tbody>\n",
       "</table>\n",
       "</div>"
      ],
      "text/plain": [
       "                ATVI Pos      TTWO Pos        EA Pos\n",
       "Date                                                \n",
       "2009-01-02  50000.000000  20000.000000  30000.000000\n",
       "2009-01-05  47971.491228  20477.987421  28727.064220\n",
       "2009-01-06  44846.491228  19849.056604  31926.605505\n",
       "2009-01-07  49780.701754  19446.540881  30550.458716\n",
       "2009-01-08  50767.543860  20352.201258  32425.458716"
      ]
     },
     "execution_count": 13,
     "metadata": {},
     "output_type": "execute_result"
    }
   ],
   "source": [
    "portfolio_value.head()"
   ]
  },
  {
   "cell_type": "code",
   "execution_count": 14,
   "metadata": {
    "collapsed": true
   },
   "outputs": [],
   "source": [
    "portfolio_value['Total Pos'] = portfolio_value.sum(axis=1)"
   ]
  },
  {
   "cell_type": "code",
   "execution_count": 15,
   "metadata": {},
   "outputs": [
    {
     "data": {
      "text/html": [
       "<div>\n",
       "<style>\n",
       "    .dataframe thead tr:only-child th {\n",
       "        text-align: right;\n",
       "    }\n",
       "\n",
       "    .dataframe thead th {\n",
       "        text-align: left;\n",
       "    }\n",
       "\n",
       "    .dataframe tbody tr th {\n",
       "        vertical-align: top;\n",
       "    }\n",
       "</style>\n",
       "<table border=\"1\" class=\"dataframe\">\n",
       "  <thead>\n",
       "    <tr style=\"text-align: right;\">\n",
       "      <th></th>\n",
       "      <th>ATVI Pos</th>\n",
       "      <th>TTWO Pos</th>\n",
       "      <th>EA Pos</th>\n",
       "      <th>Total Pos</th>\n",
       "    </tr>\n",
       "    <tr>\n",
       "      <th>Date</th>\n",
       "      <th></th>\n",
       "      <th></th>\n",
       "      <th></th>\n",
       "      <th></th>\n",
       "    </tr>\n",
       "  </thead>\n",
       "  <tbody>\n",
       "    <tr>\n",
       "      <th>2009-01-02</th>\n",
       "      <td>50000.000000</td>\n",
       "      <td>20000.000000</td>\n",
       "      <td>30000.000000</td>\n",
       "      <td>100000.000000</td>\n",
       "    </tr>\n",
       "    <tr>\n",
       "      <th>2009-01-05</th>\n",
       "      <td>47971.491228</td>\n",
       "      <td>20477.987421</td>\n",
       "      <td>28727.064220</td>\n",
       "      <td>97176.542870</td>\n",
       "    </tr>\n",
       "    <tr>\n",
       "      <th>2009-01-06</th>\n",
       "      <td>44846.491228</td>\n",
       "      <td>19849.056604</td>\n",
       "      <td>31926.605505</td>\n",
       "      <td>96622.153336</td>\n",
       "    </tr>\n",
       "    <tr>\n",
       "      <th>2009-01-07</th>\n",
       "      <td>49780.701754</td>\n",
       "      <td>19446.540881</td>\n",
       "      <td>30550.458716</td>\n",
       "      <td>99777.701350</td>\n",
       "    </tr>\n",
       "    <tr>\n",
       "      <th>2009-01-08</th>\n",
       "      <td>50767.543860</td>\n",
       "      <td>20352.201258</td>\n",
       "      <td>32425.458716</td>\n",
       "      <td>103545.203833</td>\n",
       "    </tr>\n",
       "  </tbody>\n",
       "</table>\n",
       "</div>"
      ],
      "text/plain": [
       "                ATVI Pos      TTWO Pos        EA Pos      Total Pos\n",
       "Date                                                               \n",
       "2009-01-02  50000.000000  20000.000000  30000.000000  100000.000000\n",
       "2009-01-05  47971.491228  20477.987421  28727.064220   97176.542870\n",
       "2009-01-06  44846.491228  19849.056604  31926.605505   96622.153336\n",
       "2009-01-07  49780.701754  19446.540881  30550.458716   99777.701350\n",
       "2009-01-08  50767.543860  20352.201258  32425.458716  103545.203833"
      ]
     },
     "execution_count": 15,
     "metadata": {},
     "output_type": "execute_result"
    }
   ],
   "source": [
    "portfolio_value.head()"
   ]
  },
  {
   "cell_type": "code",
   "execution_count": 16,
   "metadata": {},
   "outputs": [
    {
     "data": {
      "text/plain": [
       "<matplotlib.text.Text at 0x1137377b8>"
      ]
     },
     "execution_count": 16,
     "metadata": {},
     "output_type": "execute_result"
    },
    {
     "data": {
      "image/png": "[encoded data removed]",
      "text/plain": [
       "<matplotlib.figure.Figure at 0x119d58e48>"
      ]
     },
     "metadata": {},
     "output_type": "display_data"
    }
   ],
   "source": [
    "portfolio_value['Total Pos'].plot(figsize=(16,8))\n",
    "plt.title('Total Portfolio Value')"
   ]
  },
  {
   "cell_type": "code",
   "execution_count": 17,
   "metadata": {},
   "outputs": [
    {
     "data": {
      "text/plain": [
       "<matplotlib.axes._subplots.AxesSubplot at 0x111c35d68>"
      ]
     },
     "execution_count": 17,
     "metadata": {},
     "output_type": "execute_result"
    },
    {
     "data": {
      "image/png": "[encoded data removed]",
      "text/plain": [
       "<matplotlib.figure.Figure at 0x11a636240>"
      ]
     },
     "metadata": {},
     "output_type": "display_data"
    }
   ],
   "source": [
    "portfolio_value.drop('Total Pos', axis=1).plot(kind='line', figsize=(16,8))"
   ]
  },
  {
   "cell_type": "markdown",
   "metadata": {
    "collapsed": true
   },
   "source": [
    "## Portfolio Statistics\n"
   ]
  },
  {
   "cell_type": "markdown",
   "metadata": {},
   "source": [
    "### Daily Returns"
   ]
  },
  {
   "cell_type": "code",
   "execution_count": 21,
   "metadata": {},
   "outputs": [
    {
     "data": {
      "text/html": [
       "<div>\n",
       "<style>\n",
       "    .dataframe thead tr:only-child th {\n",
       "        text-align: right;\n",
       "    }\n",
       "\n",
       "    .dataframe thead th {\n",
       "        text-align: left;\n",
       "    }\n",
       "\n",
       "    .dataframe tbody tr th {\n",
       "        vertical-align: top;\n",
       "    }\n",
       "</style>\n",
       "<table border=\"1\" class=\"dataframe\">\n",
       "  <thead>\n",
       "    <tr style=\"text-align: right;\">\n",
       "      <th></th>\n",
       "      <th>ATVI Pos</th>\n",
       "      <th>TTWO Pos</th>\n",
       "      <th>EA Pos</th>\n",
       "      <th>Total Pos</th>\n",
       "      <th>Daily Return</th>\n",
       "    </tr>\n",
       "    <tr>\n",
       "      <th>Date</th>\n",
       "      <th></th>\n",
       "      <th></th>\n",
       "      <th></th>\n",
       "      <th></th>\n",
       "      <th></th>\n",
       "    </tr>\n",
       "  </thead>\n",
       "  <tbody>\n",
       "    <tr>\n",
       "      <th>2009-01-02</th>\n",
       "      <td>50000.000000</td>\n",
       "      <td>20000.000000</td>\n",
       "      <td>30000.000000</td>\n",
       "      <td>100000.000000</td>\n",
       "      <td>NaN</td>\n",
       "    </tr>\n",
       "    <tr>\n",
       "      <th>2009-01-05</th>\n",
       "      <td>47971.491228</td>\n",
       "      <td>20477.987421</td>\n",
       "      <td>28727.064220</td>\n",
       "      <td>97176.542870</td>\n",
       "      <td>-0.028235</td>\n",
       "    </tr>\n",
       "    <tr>\n",
       "      <th>2009-01-06</th>\n",
       "      <td>44846.491228</td>\n",
       "      <td>19849.056604</td>\n",
       "      <td>31926.605505</td>\n",
       "      <td>96622.153336</td>\n",
       "      <td>-0.005705</td>\n",
       "    </tr>\n",
       "    <tr>\n",
       "      <th>2009-01-07</th>\n",
       "      <td>49780.701754</td>\n",
       "      <td>19446.540881</td>\n",
       "      <td>30550.458716</td>\n",
       "      <td>99777.701350</td>\n",
       "      <td>0.032659</td>\n",
       "    </tr>\n",
       "    <tr>\n",
       "      <th>2009-01-08</th>\n",
       "      <td>50767.543860</td>\n",
       "      <td>20352.201258</td>\n",
       "      <td>32425.458716</td>\n",
       "      <td>103545.203833</td>\n",
       "      <td>0.037759</td>\n",
       "    </tr>\n",
       "  </tbody>\n",
       "</table>\n",
       "</div>"
      ],
      "text/plain": [
       "                ATVI Pos      TTWO Pos        EA Pos      Total Pos  \\\n",
       "Date                                                                  \n",
       "2009-01-02  50000.000000  20000.000000  30000.000000  100000.000000   \n",
       "2009-01-05  47971.491228  20477.987421  28727.064220   97176.542870   \n",
       "2009-01-06  44846.491228  19849.056604  31926.605505   96622.153336   \n",
       "2009-01-07  49780.701754  19446.540881  30550.458716   99777.701350   \n",
       "2009-01-08  50767.543860  20352.201258  32425.458716  103545.203833   \n",
       "\n",
       "            Daily Return  \n",
       "Date                      \n",
       "2009-01-02           NaN  \n",
       "2009-01-05     -0.028235  \n",
       "2009-01-06     -0.005705  \n",
       "2009-01-07      0.032659  \n",
       "2009-01-08      0.037759  "
      ]
     },
     "execution_count": 21,
     "metadata": {},
     "output_type": "execute_result"
    }
   ],
   "source": [
    "portfolio_value['Daily Return'] = portfolio_value['Total Pos'].pct_change(1)\n",
    "portfolio_value.head()"
   ]
  },
  {
   "cell_type": "markdown",
   "metadata": {},
   "source": [
    "### Cumulative Return"
   ]
  },
  {
   "cell_type": "code",
   "execution_count": 25,
   "metadata": {},
   "outputs": [
    {
     "name": "stdout",
     "output_type": "stream",
     "text": [
      "Cumulative Return was: 750.61%\n"
     ]
    }
   ],
   "source": [
    "cum_ret = 100 * (portfolio_value['Total Pos'][-1] / portfolio_value['Total Pos'][0] -1)\n",
    "print(f'Cumulative Return was: {round(cum_ret,2)}%')"
   ]
  },
  {
   "cell_type": "markdown",
   "metadata": {},
   "source": [
    "### Avg Daily Return"
   ]
  },
  {
   "cell_type": "code",
   "execution_count": 26,
   "metadata": {},
   "outputs": [
    {
     "data": {
      "text/plain": [
       "0.0012349763693776722"
      ]
     },
     "execution_count": 26,
     "metadata": {},
     "output_type": "execute_result"
    }
   ],
   "source": [
    "portfolio_value['Daily Return'].mean()"
   ]
  },
  {
   "cell_type": "markdown",
   "metadata": {},
   "source": [
    "### Std Daily Return"
   ]
  },
  {
   "cell_type": "code",
   "execution_count": 27,
   "metadata": {},
   "outputs": [
    {
     "data": {
      "text/plain": [
       "0.026375985903317165"
      ]
     },
     "execution_count": 27,
     "metadata": {},
     "output_type": "execute_result"
    }
   ],
   "source": [
    "portfolio_value['Daily Return'].std()"
   ]
  },
  {
   "cell_type": "code",
   "execution_count": 28,
   "metadata": {},
   "outputs": [
    {
     "data": {
      "text/plain": [
       "<matplotlib.axes._subplots.AxesSubplot at 0x11e2d6d68>"
      ]
     },
     "execution_count": 28,
     "metadata": {},
     "output_type": "execute_result"
    },
    {
     "data": {
      "image/png": "[encoded data removed]",
      "text/plain": [
       "<matplotlib.figure.Figure at 0x11e2df860>"
      ]
     },
     "metadata": {},
     "output_type": "display_data"
    }
   ],
   "source": [
    "portfolio_value['Daily Return'].plot(kind='kde')"
   ]
  },
  {
   "cell_type": "markdown",
   "metadata": {},
   "source": [
    "# Sharpe Ratio\n",
    "\n",
    "The Sharpe Ratio is a measure for calculating risk-adjusted return, and this ratio has become the industry standard for such calculations. \n",
    "\n",
    "Sharpe ratio = (Mean portfolio return − Risk-free rate)/Standard deviation of portfolio return\n",
    "\n",
    "The original Sharpe Ratio\n",
    "\n",
    "Annualized Sharpe Ratio = K-value * SR\n",
    "\n",
    "K-values for various sampling rates:\n",
    "\n",
    "* Daily = sqrt(252)\n",
    "* Weekly = sqrt(52)\n",
    "* Monthly = sqrt(12)\n",
    "\n",
    "Since I'm based in the USA, I will use a very low risk-free rate (the rate you would get if you just put your money in a bank, its currently very low in the USA, let's just say its ~0% return). If you are in a different country with higher rates for your trading currency, you can use this trick to convert a yearly rate with a daily rate:\n",
    "\n",
    "daily_rate = ((1.0 + yearly_rate)**(1/252))-1\n",
    "\n",
    "Other values people use are things like the 3-month treasury bill or [LIBOR](http://www.investopedia.com/terms/l/libor.asp).\n",
    "\n",
    "Source: http://www.investopedia.com/terms/s/sharperatio"
   ]
  },
  {
   "cell_type": "code",
   "execution_count": 29,
   "metadata": {},
   "outputs": [
    {
     "data": {
      "text/plain": [
       "0.046821998385370531"
      ]
     },
     "execution_count": 29,
     "metadata": {},
     "output_type": "execute_result"
    }
   ],
   "source": [
    "SR = portfolio_value['Daily Return'].mean() / portfolio_value['Daily Return'].std()\n",
    "SR"
   ]
  },
  {
   "cell_type": "code",
   "execution_count": 30,
   "metadata": {},
   "outputs": [
    {
     "data": {
      "text/plain": [
       "0.74327618168854936"
      ]
     },
     "execution_count": 30,
     "metadata": {},
     "output_type": "execute_result"
    }
   ],
   "source": [
    "ASR = (252**0.5)*SR\n",
    "ASR"
   ]
  },
  {
   "cell_type": "code",
   "execution_count": null,
   "metadata": {
    "collapsed": true
   },
   "outputs": [],
   "source": []
  }
 ],
 "metadata": {
  "kernelspec": {
   "display_name": "Python 3",
   "language": "python",
   "name": "python3"
  },
  "language_info": {
   "codemirror_mode": {
    "name": "ipython",
    "version": 3
   },
   "file_extension": ".py",
   "mimetype": "text/x-python",
   "name": "python",
   "nbconvert_exporter": "python",
   "pygments_lexer": "ipython3",
   "version": "3.6.1"
  }
 },
 "nbformat": 4,
 "nbformat_minor": 2
}
